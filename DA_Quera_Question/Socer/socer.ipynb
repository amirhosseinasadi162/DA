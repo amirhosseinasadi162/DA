{
 "cells": [
  {
   "cell_type": "code",
   "execution_count": 1,
   "metadata": {},
   "outputs": [],
   "source": [
    "import pandas as pd\n",
    "import numpy as np"
   ]
  },
  {
   "cell_type": "code",
   "execution_count": 2,
   "metadata": {},
   "outputs": [
    {
     "data": {
      "text/html": [
       "<div>\n",
       "<style scoped>\n",
       "    .dataframe tbody tr th:only-of-type {\n",
       "        vertical-align: middle;\n",
       "    }\n",
       "\n",
       "    .dataframe tbody tr th {\n",
       "        vertical-align: top;\n",
       "    }\n",
       "\n",
       "    .dataframe thead th {\n",
       "        text-align: right;\n",
       "    }\n",
       "</style>\n",
       "<table border=\"1\" class=\"dataframe\">\n",
       "  <thead>\n",
       "    <tr style=\"text-align: right;\">\n",
       "      <th></th>\n",
       "      <th>matchId</th>\n",
       "      <th>playerId</th>\n",
       "      <th>playType</th>\n",
       "      <th>bodyPart</th>\n",
       "      <th>x</th>\n",
       "      <th>y</th>\n",
       "      <th>interveningOpponents</th>\n",
       "      <th>interveningTeammates</th>\n",
       "      <th>interferenceOnShooter</th>\n",
       "      <th>minute</th>\n",
       "      <th>second</th>\n",
       "      <th>outcome</th>\n",
       "    </tr>\n",
       "  </thead>\n",
       "  <tbody>\n",
       "    <tr>\n",
       "      <th>0</th>\n",
       "      <td>m_91</td>\n",
       "      <td>p_103</td>\n",
       "      <td>جریان بازی</td>\n",
       "      <td>پای راست</td>\n",
       "      <td>13.47</td>\n",
       "      <td>-11.22</td>\n",
       "      <td>1</td>\n",
       "      <td>0</td>\n",
       "      <td>متوسط</td>\n",
       "      <td>70</td>\n",
       "      <td>9</td>\n",
       "      <td>گُل</td>\n",
       "    </tr>\n",
       "    <tr>\n",
       "      <th>1</th>\n",
       "      <td>m_17</td>\n",
       "      <td>p_16</td>\n",
       "      <td>جریان بازی</td>\n",
       "      <td>پای چپ</td>\n",
       "      <td>9.48</td>\n",
       "      <td>14.22</td>\n",
       "      <td>3</td>\n",
       "      <td>0</td>\n",
       "      <td>متوسط</td>\n",
       "      <td>55</td>\n",
       "      <td>4</td>\n",
       "      <td>مهار توسط دروازه بان</td>\n",
       "    </tr>\n",
       "    <tr>\n",
       "      <th>2</th>\n",
       "      <td>m_111</td>\n",
       "      <td>p_88</td>\n",
       "      <td>ضربه آزاد مستقیم</td>\n",
       "      <td>پای چپ</td>\n",
       "      <td>29.43</td>\n",
       "      <td>-1.25</td>\n",
       "      <td>6</td>\n",
       "      <td>2</td>\n",
       "      <td>کم</td>\n",
       "      <td>86</td>\n",
       "      <td>31</td>\n",
       "      <td>مهار توسط دروازه بان</td>\n",
       "    </tr>\n",
       "    <tr>\n",
       "      <th>3</th>\n",
       "      <td>m_142</td>\n",
       "      <td>p_87</td>\n",
       "      <td>جریان بازی</td>\n",
       "      <td>پای راست</td>\n",
       "      <td>26.93</td>\n",
       "      <td>1.00</td>\n",
       "      <td>4</td>\n",
       "      <td>1</td>\n",
       "      <td>متوسط</td>\n",
       "      <td>77</td>\n",
       "      <td>2</td>\n",
       "      <td>موقعیت از دست رفته</td>\n",
       "    </tr>\n",
       "    <tr>\n",
       "      <th>4</th>\n",
       "      <td>m_117</td>\n",
       "      <td>p_9</td>\n",
       "      <td>جریان بازی</td>\n",
       "      <td>پای راست</td>\n",
       "      <td>10.72</td>\n",
       "      <td>5.24</td>\n",
       "      <td>2</td>\n",
       "      <td>0</td>\n",
       "      <td>متوسط</td>\n",
       "      <td>76</td>\n",
       "      <td>46</td>\n",
       "      <td>گُل</td>\n",
       "    </tr>\n",
       "  </tbody>\n",
       "</table>\n",
       "</div>"
      ],
      "text/plain": [
       "  matchId playerId          playType  bodyPart      x      y  \\\n",
       "0    m_91    p_103        جریان بازی  پای راست  13.47 -11.22   \n",
       "1    m_17     p_16        جریان بازی    پای چپ   9.48  14.22   \n",
       "2   m_111     p_88  ضربه آزاد مستقیم    پای چپ  29.43  -1.25   \n",
       "3   m_142     p_87        جریان بازی  پای راست  26.93   1.00   \n",
       "4   m_117      p_9        جریان بازی  پای راست  10.72   5.24   \n",
       "\n",
       "   interveningOpponents  interveningTeammates interferenceOnShooter  minute  \\\n",
       "0                     1                     0                 متوسط      70   \n",
       "1                     3                     0                 متوسط      55   \n",
       "2                     6                     2                    کم      86   \n",
       "3                     4                     1                 متوسط      77   \n",
       "4                     2                     0                 متوسط      76   \n",
       "\n",
       "   second               outcome  \n",
       "0       9                   گُل  \n",
       "1       4  مهار توسط دروازه بان  \n",
       "2      31  مهار توسط دروازه بان  \n",
       "3       2    موقعیت از دست رفته  \n",
       "4      46                   گُل  "
      ]
     },
     "execution_count": 2,
     "metadata": {},
     "output_type": "execute_result"
    }
   ],
   "source": [
    "df = pd.read_csv(\"train.csv\")\n",
    "df.head()"
   ]
  },
  {
   "cell_type": "code",
   "execution_count": 3,
   "metadata": {},
   "outputs": [
    {
     "data": {
      "text/plain": [
       "160"
      ]
     },
     "execution_count": 3,
     "metadata": {},
     "output_type": "execute_result"
    }
   ],
   "source": [
    "count_player = len(df[\"playerId\"].unique())\n",
    "count_player"
   ]
  },
  {
   "cell_type": "code",
   "execution_count": 4,
   "metadata": {},
   "outputs": [
    {
     "data": {
      "text/plain": [
       "'p_18'"
      ]
     },
     "execution_count": 4,
     "metadata": {},
     "output_type": "execute_result"
    }
   ],
   "source": [
    "goals = df.groupby([\"playerId\"])[\"outcome\"].apply(lambda x: (x==\"گُل\").sum())\n",
    "player_Id = goals.idxmax()\n",
    "player_Id"
   ]
  },
  {
   "cell_type": "code",
   "execution_count": 6,
   "metadata": {},
   "outputs": [
    {
     "name": "stdout",
     "output_type": "stream",
     "text": [
      "p_18 p_147\n"
     ]
    }
   ],
   "source": [
    "df[\"shouts\"] = df.groupby('playerId')[\"outcome\"].transform(\"count\")\n",
    "df[\"goals\"] = df.groupby(\"playerId\")[\"outcome\"].transform(lambda x: (x == \"گُل\").sum())\n",
    "df[\"nerkh\"] = df[\"goals\"]/df[\"shouts\"] \n",
    "df_unique = df.drop_duplicates(subset=\"playerId\")\n",
    "max_goal_rate_player = df_unique.loc[df_unique[\"nerkh\"].idxmax()]\n",
    "min_goal_rate_player = df_unique.loc[df_unique[\"nerkh\"].idxmin()]\n",
    "print(max_goal_rate_player[\"playerId\"],min_goal_rate_player[\"playerId\"])"
   ]
  },
  {
   "cell_type": "code",
   "execution_count": 7,
   "metadata": {},
   "outputs": [
    {
     "name": "stdout",
     "output_type": "stream",
     "text": [
      "Farthest shot distance (integer part): 71\n"
     ]
    }
   ],
   "source": [
    "goal_x, goal_y = 0, 0\n",
    "df[\"distance\"] = np.sqrt((df[\"x\"] - goal_x)**2 + (df[\"y\"] - goal_y)**2)\n",
    "max_distance = df[\"distance\"].max()\n",
    "max_distance_int = int(max_distance)\n",
    "\n",
    "print(\"Farthest shot distance (integer part):\", max_distance_int)"
   ]
  }
 ],
 "metadata": {
  "kernelspec": {
   "display_name": "Python 3",
   "language": "python",
   "name": "python3"
  },
  "language_info": {
   "codemirror_mode": {
    "name": "ipython",
    "version": 3
   },
   "file_extension": ".py",
   "mimetype": "text/x-python",
   "name": "python",
   "nbconvert_exporter": "python",
   "pygments_lexer": "ipython3",
   "version": "3.11.7"
  }
 },
 "nbformat": 4,
 "nbformat_minor": 2
}
